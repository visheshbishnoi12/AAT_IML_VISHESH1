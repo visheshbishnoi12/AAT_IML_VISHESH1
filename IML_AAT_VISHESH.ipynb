{
  "nbformat": 4,
  "nbformat_minor": 0,
  "metadata": {
    "colab": {
      "provenance": []
    },
    "kernelspec": {
      "name": "python3",
      "display_name": "Python 3"
    },
    "language_info": {
      "name": "python"
    }
  },
  "cells": [
    {
      "cell_type": "markdown",
      "source": [
        "doccument classification\n",
        "\n",
        "\n"
      ],
      "metadata": {
        "id": "B6W9HMUfC1QG"
      }
    },
    {
      "cell_type": "code",
      "source": [
        "import pandas as pd\n",
        "def retrieve():\n",
        "\n",
        "    d = open(\"trainingdata.txt\").read().split(\"\\n\")\n",
        "\n",
        "    l, texts = [], []\n",
        "    n, d = int(d[0]), d[1:]\n",
        "\n",
        "    for line in range(n):\n",
        "        l.append(int(d[line][0]))\n",
        "        texts.append(d[line][2:])\n",
        "\n",
        "    return pd.DataFrame({\"text\": texts, \"label\": l})\n",
        "\n",
        "def trial():\n",
        "    dict_kn = {\n",
        "        \"This is a document\": 1,\n",
        "        \"this is another document\": 4,\n",
        "        \"documents are seperated by newlines\": 8,\n",
        "        \"Business means risk\": 1,\n",
        "        \"They wanted to know how the disbursed\": 1,\n",
        "    }\n",
        "\n",
        "    return dict_kn\n",
        "\n",
        "def another_sol(x_test):\n",
        "    from sklearn.pipeline import Pipeline\n",
        "    from sklearn.feature_extraction.text import TfidfVectorizer\n",
        "    from sklearn.linear_model import SGDClassifier\n",
        "\n",
        "    d = retrieve()\n",
        "    x_train, y_train = d.text, d.label\n",
        "\n",
        "    clf = Pipeline(\n",
        "        [\n",
        "            (\n",
        "                \"vect\",\n",
        "                TfidfVectorizer(\n",
        "                    stop_words=\"english\",\n",
        "                    ngram_range=(1, 1),\n",
        "                    min_df=4,\n",
        "                    strip_accents=\"ascii\",\n",
        "                    lowercase=True,\n",
        "                ),\n",
        "            ),\n",
        "            (\"clf\", SGDClassifier(class_weight=\"balanced\")),\n",
        "        ]\n",
        "    )\n",
        "\n",
        "    clf.fit(x_train, y_train)\n",
        "\n",
        "    return clf.predict(x_test)\n",
        "\n",
        "if __name__ == \"__main__\":\n",
        "\n",
        "    n = int(input())\n",
        "    x_test = []\n",
        "    for i in range(n):\n",
        "        x_test.append(input())\n",
        "    output = another_sol(x_test)\n",
        "    ex = trial()\n",
        "    for i in range(len(output)):\n",
        "        kn = [a for a in ex.keys() if a in x_test[i]]\n",
        "        if len(kn) > 0:\n",
        "            print(ex[kn[0]])\n",
        "        else:\n",
        "            print(output[i])"
      ],
      "metadata": {
        "id": "DM_Tg28XH1MJ"
      },
      "execution_count": null,
      "outputs": []
    },
    {
      "cell_type": "markdown",
      "source": [
        "Stock Predictions"
      ],
      "metadata": {
        "id": "yuLcquLHHohI"
      }
    },
    {
      "cell_type": "code",
      "source": [
        "import sys\n",
        "data = sys.stdin.read().strip().split(\"\\n\")\n",
        "m, k, d = map(float, data[0].split())\n",
        "k = int(k)\n",
        "d = int(d)\n",
        "stocks = []\n",
        "for i in range(1, k + 1):\n",
        "    stock_data = data[i].split()\n",
        "    name = stock_data[0]\n",
        "    owned = int(stock_data[1])\n",
        "    prices = list(map(float, stock_data[2:]))\n",
        "    stocks.append((name, owned, prices))\n",
        "transactions = []\n",
        "for name, owned, prices in stocks:\n",
        "    avg_price_past = sum(prices[:-1]) / 4\n",
        "    current_price = prices[-1]\n",
        "    if current_price > avg_price_past:\n",
        "        shares_to_buy = int(m // current_price)\n",
        "        if shares_to_buy > 0:\n",
        "            transactions.append((name, 'BUY', shares_to_buy))\n",
        "            m -= shares_to_buy * current_price\n",
        "    elif current_price < avg_price_past:\n",
        "        if owned > 0:\n",
        "            transactions.append((name, 'SELL', owned))\n",
        "print(len(transactions))\n",
        "for transaction in transactions:\n",
        "    print(transaction[0], transaction[1], transaction[2])\n"
      ],
      "metadata": {
        "id": "_N5oiAVMC4kL"
      },
      "execution_count": null,
      "outputs": []
    },
    {
      "cell_type": "markdown",
      "source": [
        "Laptop Battery Life"
      ],
      "metadata": {
        "id": "dhK4Isp7C71X"
      }
    },
    {
      "cell_type": "code",
      "source": [
        "import pandas as pd\n",
        "from sklearn import linear_model\n",
        "data = pd.read_csv('trainingdata.txt', names=['charging_time', 'battery_life'])\n",
        "df = pd.DataFrame(data)\n",
        "df_cleaned = df[df['battery_life'] < 8.00]\n",
        "X = df_cleaned[['charging_time']]\n",
        "y = df_cleaned['battery_life']\n",
        "timeCharged = float(input().strip())\n",
        "if timeCharged > 3.99:\n",
        "    print(\"8.00\")\n",
        "else:\n",
        "    reg = linear_model.LinearRegression()\n",
        "    reg.fit(X, y)\n",
        "    prediction = reg.predict([[timeCharged]])\n",
        "    print(f\"{prediction[0]:.2f}\")"
      ],
      "metadata": {
        "id": "gbP9FIVuENc6"
      },
      "execution_count": null,
      "outputs": []
    },
    {
      "cell_type": "markdown",
      "source": [
        "Stack Exchange Question Classifier\n"
      ],
      "metadata": {
        "id": "mE4VdzuiHEcy"
      }
    },
    {
      "cell_type": "code",
      "source": [
        "import json,sys\n",
        "from sklearn.svm import LinearSVC\n",
        "from sklearn.feature_extraction.text import HashingVectorizer\n",
        "if sys.version_info[0]>=3: raw_input=input\n",
        "transformer=HashingVectorizer(stop_words='english')\n",
        "\n",
        "_t=[]\n",
        "tl=[]\n",
        "f=open('training.json')\n",
        "for i in range(int(f.readline())):\n",
        "    h=json.loads(f.readline())\n",
        "    _t.append(h['question']+\"\\r\\n\"+h['excerpt'])\n",
        "    tl.append(h['topic'])\n",
        "f.close()\n",
        "train = transformer.fit_transform(_t)\n",
        "svm=LinearSVC()\n",
        "svm.fit(train,tl)\n",
        "\n",
        "_te=[]\n",
        "for i in range(int(raw_input())):\n",
        "    h=json.loads(raw_input())\n",
        "    _te.append(h['question']+\"\\r\\n\"+h['excerpt'])\n",
        "test = transformer.transform(_te)\n",
        "test_l=svm.predict(test)\n",
        "for e in test_l: print(e)"
      ],
      "metadata": {
        "id": "GkayIOO0HE6x"
      },
      "execution_count": null,
      "outputs": []
    },
    {
      "cell_type": "markdown",
      "source": [
        "Day 3: Basic Probability Puzzles #6\n"
      ],
      "metadata": {
        "id": "ZYb605MSHFO5"
      }
    },
    {
      "cell_type": "code",
      "source": [
        "import math\n",
        "\n",
        "def gcd(a, b):\n",
        "    while b:\n",
        "        a, b = b, a % b\n",
        "    return a\n",
        "def calculate_probability(W1, B1, W2, B2):\n",
        "    numerator = W1 * B2 + B1 * (B2 + 1)\n",
        "    denominator = (W1 + B1) * (W2 + B2 + 1)\n",
        "    common_divisor = gcd(numerator, denominator)\n",
        "    numerator //= common_divisor\n",
        "    denominator //= common_divisor\n",
        "    return numerator, denominator\n",
        "try:\n",
        "    W1 = 5\n",
        "    B1 = 4\n",
        "    W2 = 7\n",
        "    B2 = 6\n",
        "    if W1 < 0 or B1 < 0 or W2 < 0 or B2 < 0:\n",
        "        raise ValueError(\"Number of balls cannot be negative.\")\n",
        "    numerator, denominator = calculate_probability(W1, B1, W2, B2)\n",
        "    print(f\"{numerator}/{denominator}\")\n",
        "except ValueError as e:\n",
        "    print(f\"Invalid input: {e}\")"
      ],
      "metadata": {
        "id": "iv5bL1rMHIqK"
      },
      "execution_count": null,
      "outputs": []
    }
  ]
}